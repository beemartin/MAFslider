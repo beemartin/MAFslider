{
 "cells": [
  {
   "cell_type": "markdown",
   "metadata": {},
   "source": [
    "This notebook produces an interactive plot of the LSST MAF skymap results for our bayes factor metric alongside the median bayes factor for each region of sky, to demonstrate the connection between the two.  "
   ]
  },
  {
   "cell_type": "code",
   "execution_count": null,
   "metadata": {
    "collapsed": false
   },
   "outputs": [],
   "source": [
    "%matplotlib notebook \n",
    "#ABOVE: enables matplotlib interactivity inside the notebook\n",
    "import numpy as np\n",
    "import matplotlib.pyplot as plt\n",
    "import matplotlib.image as mpimg\n",
    "from matplotlib.widgets import Slider"
   ]
  },
  {
   "cell_type": "markdown",
   "metadata": {},
   "source": [
    "ATTENTION: Change the band string to switch bands (u or g)"
   ]
  },
  {
   "cell_type": "code",
   "execution_count": null,
   "metadata": {
    "collapsed": true
   },
   "outputs": [],
   "source": [
    "band = 'u'\n",
    "if band != 'u' and band != 'g':\n",
    "    print 'ERROR: Band must be either u or g'"
   ]
  },
  {
   "cell_type": "markdown",
   "metadata": {},
   "source": [
    "This cell loads and splits the datafiles into arrays for easy plotting. "
   ]
  },
  {
   "cell_type": "code",
   "execution_count": null,
   "metadata": {
    "collapsed": true
   },
   "outputs": [],
   "source": [
    "galband = np.loadtxt('galaxband-'+band+'-medianbayes.dat', usecols=range(2,1)) #galactic band\n",
    "galpole = np.loadtxt('galaxpole-'+band+'-medianbayes.dat', usecols=range(2,1)) #galactic pole\n",
    "mainsurvey = np.loadtxt('main-'+band+'-medianbayes.dat', usecols=range(2,1)) #main survey\n",
    "if band == 'g': #the ecliptic spur is not present in the u band\n",
    "\teclip = np.loadtxt('ecliptic-g-medianbayes.dat', usecols=range(2,1)) #ecliptic spur\n",
    "\tecliptic, eclzshift = np.split(eclip, 2, axis = 1)\n",
    "deepdr = np.loadtxt('deepdrill-'+band+'-medianbayes.dat', usecols=range(2,1)) #deep drilling fields\n",
    "galaxband, bandzshift = np.split(galband, 2, axis=1)\n",
    "galaxpole, polezshift = np.split(galpole, 2, axis=1)\n",
    "main, mainzshift = np.split(mainsurvey, 2, axis=1)\n",
    "deepdrill, deepzshift = np.split(deepdr, 2, axis=1)"
   ]
  },
  {
   "cell_type": "markdown",
   "metadata": {},
   "source": [
    "This cell defines the update function for the slider, which plots the appropriate skymaps based on the slider's value."
   ]
  },
  {
   "cell_type": "code",
   "execution_count": null,
   "metadata": {
    "collapsed": false
   },
   "outputs": [],
   "source": [
    "oldval = 0.1 #this is the initial value of the slider\n",
    "def update(val):\n",
    "    global oldval\n",
    "    if szshift.val >= oldval + 0.05 or szshift.val <= oldval - 0.05: #check that we've moved far from the currently displayed plot\n",
    "        #clear old plots\n",
    "        ax.cla()\n",
    "        imgplot.cla()\n",
    "        imgplot2.cla()\n",
    "        #reset label\n",
    "        ax.set_ylabel('Log(Median Bayes Factor)')\n",
    "        ax.plot(deepzshift, np.log(deepdrill), label=\"deep drill fields\")\n",
    "        ax.plot(bandzshift, np.log(galaxband), label=\"galactic band\")\n",
    "        ax.plot(polezshift, np.log(galaxpole), label=\"galactic pole\")\n",
    "        ax.plot(mainzshift, np.log(main), label = \"main survey\")\n",
    "        if band == 'g': #the ecliptic spur is not present in the u band\n",
    "            ax.plot(eclzshift, np.log(ecliptic), label=\"ecliptic spur\")\n",
    "            ax.plot((round(szshift.val, 1)), np.log(ecliptic[int((round(szshift.val, 1)*10)-1)]), 'ko')\n",
    "        ax.plot((round(szshift.val, 1)), np.log(deepdrill[int((round(szshift.val, 1)*10)-1)]), 'ko')\n",
    "        ax.plot((round(szshift.val, 1)), np.log(main[int((round(szshift.val, 1)*10)-1)]), 'ko')\n",
    "        ax.plot((round(szshift.val, 1)), np.log(galaxpole[int((round(szshift.val, 1)*10)-1)]), 'ko')\n",
    "        ax.plot((round(szshift.val, 1)), np.log(galaxband[int((round(szshift.val, 1)*10)-1)]), 'ko')\n",
    "        ax.legend(prop={'size':6})\n",
    "        ax.xaxis.set_visible(False)\n",
    "        #reset filepaths\n",
    "        imgpath = 'MAFthumbs/z' + str(round(szshift.val, 1)) + '/' + band + 'band/'\n",
    "        imgname = 'thumb.opsim_astrometry_' + band + '_HEAL_kraken_1042_SkyMap.png'\n",
    "        imgname2 = 'thumb.opsim_astrometry_' + band + '_and_night_lt_366_HEAL_kraken_1042_SkyMap.png'\n",
    "        img = mpimg.imread(imgpath + imgname)\n",
    "        img2 = mpimg.imread(imgpath + imgname2)\n",
    "        #plot skymap thumbnails for nearest applicable value\n",
    "        imgplot.imshow(img)\n",
    "        imgplot2.imshow(img2)\n",
    "        oldval = szshift.val #store a new value to check against\n",
    "    fig.canvas.draw_idle()"
   ]
  },
  {
   "cell_type": "markdown",
   "metadata": {},
   "source": [
    "This cell sets up the initial condition of the plot and starts the interactive slider widget.  Note that there are only skymaps for each 0.1 interval of redshift, so not every value on the slider has a skymap associated.  This results in apparent inaccuracies, especially in the areas halfway between two skymaps.  "
   ]
  },
  {
   "cell_type": "code",
   "execution_count": null,
   "metadata": {
    "collapsed": false
   },
   "outputs": [],
   "source": [
    "fig = plt.figure(figsize=(10,10))\n",
    "fig.suptitle(band + '-band', fontsize=16)\n",
    "ax = fig.add_subplot()\n",
    "ax = plt.subplot2grid((8,6), (0,0), colspan = 6, rowspan = 2) #plots to the upperleft square in a 4x6 grid, 6 columns long, 2 rows deep\n",
    "ax.set_ylabel('Log(Median Bayes Factor)')\n",
    "ax.plot(deepzshift, np.log(deepdrill), label=\"deep drill fields\") #plot of median bayes factor in deep drilling fields\n",
    "ax.plot(bandzshift, np.log(galaxband), label=\"galactic band\") #ditto for the galactic band\n",
    "ax.plot(polezshift, np.log(galaxpole), label=\"galactic pole\") #ditto for the galactic pole\n",
    "ax.plot(mainzshift, np.log(main), label = \"main survey\") #ditto for the main survey area\n",
    "if band == 'g': #the ecliptic spur is not present in the u band\n",
    "\tax.plot(eclzshift, np.log(ecliptic), label=\"ecliptic spur\") #ditto for the ecliptic spur\n",
    "ax.plot(oldval, np.log(deepdrill[int((oldval*10)-1)]), 'ko') #plots the initial point\n",
    "ax.legend(prop={'size':6})\n",
    "ax.xaxis.set_visible(False)\n",
    "#setup for image handling; imgplot is 10 year, imgplot2 is 1 year\n",
    "imgplot = plt.subplot2grid((8,6), (2, 3), colspan = 3, rowspan = 5) #4x6 grid, 3rd row, 4th column, 3 wide, 2 deep\n",
    "imgplot.xaxis.set_visible(False)\n",
    "imgplot.yaxis.set_visible(False)\n",
    "imgplot2 = plt.subplot2grid((8,6), (2, 0), colspan = 3, rowspan = 5) #4x6 grid, 3rd row, 1st column, 3 wide, 2 deep\n",
    "imgplot2.xaxis.set_visible(False)\n",
    "imgplot2.yaxis.set_visible(False)\n",
    "f0 = oldval #initial value of the slider/redshift\n",
    "#filepaths for skymap thumbnails\n",
    "imgpath = 'MAFthumbs/z' + str(f0) + '/' + band + 'band/'\n",
    "imgname = 'thumb.opsim_astrometry_' + band + '_HEAL_kraken_1042_SkyMap.png'\n",
    "imgname2 = 'thumb.opsim_astrometry_' + band + '_and_night_lt_366_HEAL_kraken_1042_SkyMap.png'\n",
    "img = mpimg.imread(imgpath + imgname)\n",
    "img2 = mpimg.imread(imgpath + imgname2)\n",
    "\n",
    "imgplot.imshow(img)\n",
    "imgplot2.imshow(img2)\n",
    "#setup for slider\n",
    "axcolor = 'lightgoldenrodyellow' \n",
    "axfreq = plt.axes([0.16, 0.68, 0.705, 0.02], axis_bgcolor=axcolor) #if this raises an error, try changing \"axis_bgcolor\" to \"facecolor\"\n",
    "sl_xticks = np.arange(0.1,3.9, 0.2)\n",
    "szshift = Slider(axfreq, '', 0.1, 3.9, valinit=f0)\n",
    "axfreq.xaxis.set_visible(True)\n",
    "axfreq.set_xticks(sl_xticks)\n",
    "szshift.on_changed(update)\n",
    "plt.show()"
   ]
  },
  {
   "cell_type": "markdown",
   "metadata": {},
   "source": [
    "The slider, despite its name, isn't very good at sliding.  It's much better to just click on the slider where you want to see, rather than sliding to it.  "
   ]
  }
 ],
 "metadata": {
  "kernelspec": {
   "display_name": "Python 2",
   "language": "python",
   "name": "python2"
  },
  "language_info": {
   "codemirror_mode": {
    "name": "ipython",
    "version": 2
   },
   "file_extension": ".py",
   "mimetype": "text/x-python",
   "name": "python",
   "nbconvert_exporter": "python",
   "pygments_lexer": "ipython2",
   "version": "2.7.13"
  }
 },
 "nbformat": 4,
 "nbformat_minor": 2
}
