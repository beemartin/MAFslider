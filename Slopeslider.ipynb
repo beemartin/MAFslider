{
 "cells": [
  {
   "cell_type": "markdown",
   "metadata": {},
   "source": [
    "This notebook produces an interactive plot of the LSST MAF skymap results for our bayes factor metric alongside a slope function, to demonstrate the connection between the two.  "
   ]
  },
  {
   "cell_type": "code",
   "execution_count": null,
   "metadata": {
    "collapsed": false
   },
   "outputs": [],
   "source": [
    "%matplotlib notebook \n",
    "#ABOVE: enables matplotlib interactivity in the notebook\n",
    "import numpy as np\n",
    "import matplotlib.pyplot as plt\n",
    "import matplotlib.image as mpimg\n",
    "from matplotlib.widgets import Slider"
   ]
  },
  {
   "cell_type": "markdown",
   "metadata": {},
   "source": [
    "This cell loads the datafiles that represent the slope function in each band and splits them into two arrays for plotting purposes."
   ]
  },
  {
   "cell_type": "code",
   "execution_count": null,
   "metadata": {
    "collapsed": true
   },
   "outputs": [],
   "source": [
    "gband = np.loadtxt('gbandslopes.dat', usecols=range(2,1))\n",
    "uband = np.loadtxt('ubandslopes.dat', usecols=range(2,1))\n",
    "gbandslopes, gzshift = np.split(gband, 2, axis = 1)\n",
    "ubandslopes, uzshift = np.split(uband, 2, axis = 1)"
   ]
  },
  {
   "cell_type": "markdown",
   "metadata": {},
   "source": [
    "**IMPORTANT:  Change this value to swap between the g and u filters.  Only accepts 'u' and 'g' "
   ]
  },
  {
   "cell_type": "code",
   "execution_count": null,
   "metadata": {
    "collapsed": true
   },
   "outputs": [],
   "source": [
    "band = 'g'\n",
    "if band != 'u' and band != 'g':\n",
    "    print 'ERROR: Band must be either u or g'\n"
   ]
  },
  {
   "cell_type": "markdown",
   "metadata": {},
   "source": [
    "This cell defines the update function for the slider, which plots the appropriate skymaps based on the slider's value."
   ]
  },
  {
   "cell_type": "code",
   "execution_count": null,
   "metadata": {
    "collapsed": false
   },
   "outputs": [],
   "source": [
    "oldval = 0.4 #this is used later to reduce the computation necessary in the update function\n",
    "def update(val):\n",
    "    global oldval\n",
    "    if szshift.val >= oldval + 0.05 or szshift.val <= oldval - 0.05:\n",
    "        #clear old plots\n",
    "        ax.cla()\n",
    "        imgplot.cla()\n",
    "        imgplot2.cla()\n",
    "        #reset labels\n",
    "        ax.set_xlabel('Redshift')\n",
    "        ax.set_ylabel('Slope of R vs. Tan(Z)')\n",
    "        #plot band-specific features\n",
    "        if band == 'g':\n",
    "            zpoint = gbandslopes[int(round((szshift.val/.05)-2))]\n",
    "            ax.plot(gzshift, gbandslopes)\n",
    "        if band == 'u':\n",
    "            zpoint = ubandslopes[int(round((szshift.val/.05)-2))]\n",
    "            ax.plot(uzshift, ubandslopes)\n",
    "        ax.plot(szshift.val, zpoint, 'ko') #current redshift point\n",
    "        ax.plot(xaxis, y) #plot y=0 line\n",
    "        #reset filepaths\n",
    "        imgpath = 'MAFthumbs/z' + str(round(szshift.val, 1)) + '/' + band + 'band/'\n",
    "        imgname = 'thumb.opsim_astrometry_' + band + '_HEAL_kraken_1042_SkyMap.png'\n",
    "        imgname2 = 'thumb.opsim_astrometry_' + band + '_and_night_lt_366_HEAL_kraken_1042_SkyMap.png'\n",
    "        img = mpimg.imread(imgpath + imgname)\n",
    "        img2 = mpimg.imread(imgpath + imgname2)\n",
    "        #plot skymap thumbnails for nearest applicable value\n",
    "        imgplot.imshow(img)\n",
    "        imgplot2.imshow(img2)\n",
    "        oldval = szshift.val\n",
    "    fig.canvas.draw_idle()"
   ]
  },
  {
   "cell_type": "markdown",
   "metadata": {},
   "source": [
    "This cell sets up the initial condition of the plot and starts the interactive slider widget.  Note that there are only skymaps for each 0.1 interval of redshift, so not every value on the slider has a skymap associated.  This results in apparent inaccuracies, especially in the areas halfway between two skymaps.  "
   ]
  },
  {
   "cell_type": "code",
   "execution_count": null,
   "metadata": {
    "collapsed": false
   },
   "outputs": [],
   "source": [
    "fig = plt.figure(figsize=(10,10))\n",
    "fig.suptitle(band + 'band')\n",
    "ax = fig.add_subplot() #subplot for slope function\n",
    "ax = plt.subplot2grid((8,6), (0,0), colspan = 6, rowspan = 2)\n",
    "ax.set_xlabel('Redshift')\n",
    "ax.set_ylabel('Slope of R vs. Tan(Z)')\n",
    "ax.xaxis.set_visible(False)\n",
    "#plot setup for y=0 line\n",
    "numb = 100\n",
    "xaxis = np.linspace(0.1, 4.0, numb)\n",
    "y = 0*xaxis\n",
    "#setup for image handling; imgplot is 10 year, imgplot2 is 1 year\n",
    "imgplot = plt.subplot2grid((8,6), (2, 3), colspan = 3, rowspan = 5)\n",
    "imgplot.xaxis.set_visible(False)\n",
    "imgplot.yaxis.set_visible(False)\n",
    "imgplot2 = plt.subplot2grid((8,6), (2, 0), colspan = 3, rowspan = 5)\n",
    "imgplot2.xaxis.set_visible(False)\n",
    "imgplot2.yaxis.set_visible(False)\n",
    "f0 = 0.4 #initial value of the slider/redshift\n",
    "#filepaths for skymap thumbnails\n",
    "imgpath = 'MAFthumbs/z' + str(f0) + '/' + band + 'band/'\n",
    "imgname = 'thumb.opsim_astrometry_' + band + '_HEAL_kraken_1042_SkyMap.png'\n",
    "imgname2 = 'thumb.opsim_astrometry_' + band + '_and_night_lt_366_HEAL_kraken_1042_SkyMap.png'\n",
    "img = mpimg.imread(imgpath + imgname)\n",
    "img2 = mpimg.imread(imgpath + imgname2)\n",
    "#initial plotting\n",
    "if band == 'g':\n",
    "    zpoint = gbandslopes[int(round((f0/.05)-2))]\n",
    "    ax.plot(gzshift, gbandslopes)\n",
    "if band == 'u':\n",
    "    zpoint = ubandslopes[int(round((f0/.05)-2))]\n",
    "    ax.plot(uzshift, ubandslopes)\n",
    "ax.plot(f0, zpoint, 'ko') #point at initial redshift\n",
    "ax.plot(xaxis, y)\n",
    "imgplot.imshow(img)\n",
    "imgplot2.imshow(img2)\n",
    "#setup for slider\n",
    "axcolor = 'lightgoldenrodyellow'\n",
    "axfreq = plt.axes([0.16, 0.68, 0.693, 0.02], axis_bgcolor=axcolor)\n",
    "sl_xticks = np.arange(0.1,3.9, 0.2)\n",
    "szshift = Slider(axfreq, '', 0.1, 3.9, valinit=f0)\n",
    "axfreq.xaxis.set_visible(True)\n",
    "axfreq.set_xticks(sl_xticks)\n",
    "szshift.on_changed(update)\n",
    "plt.show()"
   ]
  },
  {
   "cell_type": "markdown",
   "metadata": {},
   "source": [
    "The slider, despite its name, isn't very good at sliding.  It's much better to just click on the slider where you want to see, rather than sliding to it.  "
   ]
  }
 ],
 "metadata": {
  "kernelspec": {
   "display_name": "Python 2",
   "language": "python",
   "name": "python2"
  },
  "language_info": {
   "codemirror_mode": {
    "name": "ipython",
    "version": 2
   },
   "file_extension": ".py",
   "mimetype": "text/x-python",
   "name": "python",
   "nbconvert_exporter": "python",
   "pygments_lexer": "ipython2",
   "version": "2.7.13"
  }
 },
 "nbformat": 4,
 "nbformat_minor": 2
}
